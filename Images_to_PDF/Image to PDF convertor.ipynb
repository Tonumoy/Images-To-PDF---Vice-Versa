{
 "cells": [
  {
   "cell_type": "markdown",
   "id": "5e8b5991",
   "metadata": {},
   "source": [
    "## Notebook to convert popular different Image file types into PDF and Vice-Versa"
   ]
  },
  {
   "cell_type": "code",
   "execution_count": 8,
   "id": "99bfbf48",
   "metadata": {},
   "outputs": [],
   "source": [
    "# Importing Dependencies\n",
    "\n",
    "from PIL import Image\n",
    "from pdf2image import convert_from_path\n",
    "from PyPDF2 import PdfFileMerger\n",
    "import os"
   ]
  },
  {
   "cell_type": "markdown",
   "id": "304a18bc",
   "metadata": {},
   "source": [
    "#### PDF to JPG"
   ]
  },
  {
   "cell_type": "code",
   "execution_count": 17,
   "id": "ab6afc74",
   "metadata": {},
   "outputs": [],
   "source": [
    "class Image_Convertor:\n",
    "    \n",
    "    def pdf_2_jpg():\n",
    "        # Setting the I/P & O/P file paths\n",
    "        IP_path = \"C:/Users/tonum/OneDrive/Desktop/Codes/Images_to_PDF/\" \n",
    "\n",
    "        OP_path1 = \"C:/Users/tonum/OneDrive/Desktop/Codes/Images_to_PDF/Image/Jpeg/\" #jpg path\n",
    "\n",
    "        pdfname = IP_path + input('Enter PDF name with extension: ')\n",
    "\n",
    "        # Counting the number of pages in the pdf and converting the pages into image\n",
    "        images = convert_from_path(pdfname)\n",
    "        i = 1\n",
    "        length = len(images)\n",
    "\n",
    "        print(\"Number of pages in PDF=\"+str(length))\n",
    "\n",
    "        for image in images:\n",
    "            image.save(OP_path1 + str(i) + '.jpg', 'JPEG')\n",
    "            i = i + 1\n",
    "        \n",
    "    def pdf_2_png():\n",
    "        # Setting the I/P & O/P file paths\n",
    "        IP_path = \"C:/Users/tonum/OneDrive/Desktop/Codes/Images_to_PDF/\" \n",
    "\n",
    "        OP_path2 = \"C:/Users/tonum/OneDrive/Desktop/Codes/Images_to_PDF/Image/png/\" #png path\n",
    "\n",
    "        pdfname = IP_path + input('Enter PDF name with extension: ')\n",
    "\n",
    "        # Counting the number of pages in the pdf and converting the pages into image\n",
    "        images = convert_from_path(pdfname)\n",
    "        i = 1\n",
    "        length = len(images)\n",
    "\n",
    "        print(\"Number of pages in PDF=\"+str(length))\n",
    "\n",
    "        for image in images:\n",
    "            image.save(OP_path2 + str(i) + '.png', 'PNG')\n",
    "            i = i + 1\n",
    "    \n",
    "    def png_2_pdf():\n",
    "        \n",
    "        IP_path2 = r\"C:/Users/tonum/OneDrive/Desktop/Codes/Images_to_PDF/Image/png/\"\n",
    "        OP_path = \"C:/Users/tonum/OneDrive/Desktop/Codes/Images_to_PDF/PDF/\"\n",
    "        \n",
    "        #\n",
    "        \n",
    "        img_list = [os.path.join(IP_path2, file)\n",
    "                for file in os.listdir(IP_path2)\n",
    "                if file.endswith('.png')]\n",
    "\n",
    "        for i,path in enumerate(img_list):\n",
    "            image_1 = Image.open(path)\n",
    "            im_1 = image_1.convert('RGB')\n",
    "            im_1.save(OP_path+str(i)+'.pdf')    \n",
    "        \n",
    "    def jpg_2_pdf():\n",
    "        IP_path1 = r\"C:/Users/tonum/OneDrive/Desktop/Codes/Images_to_PDF/Image/Jpeg/\"\n",
    "        OP_path = \"C:/Users/tonum/OneDrive/Desktop/Codes/Images_to_PDF/PDF/\"\n",
    "\n",
    "        img_list = [os.path.join(IP_path1, file)\n",
    "                for file in os.listdir(IP_path1)\n",
    "                if file.endswith('.jpg')]\n",
    "\n",
    "        for i,path in enumerate(img_list):\n",
    "            new_image_1 = Image.open(path)\n",
    "            new_im_1 = new_image_1.convert('RGB')\n",
    "            new_im_1.save(OP_path+str(i)+'.pdf')"
   ]
  },
  {
   "cell_type": "code",
   "execution_count": 13,
   "id": "6e73cc77",
   "metadata": {},
   "outputs": [
    {
     "name": "stdout",
     "output_type": "stream",
     "text": [
      "Enter PDF name with extension: sample.pdf\n",
      "Number of pages in PDF=32\n"
     ]
    }
   ],
   "source": [
    "Image_Convertor.pdf_2_jpg()"
   ]
  },
  {
   "cell_type": "code",
   "execution_count": 16,
   "id": "fe3f7b61",
   "metadata": {},
   "outputs": [],
   "source": [
    "Image_Convertor.jpg_2_pdf()"
   ]
  },
  {
   "cell_type": "code",
   "execution_count": null,
   "id": "83f8b1d9",
   "metadata": {},
   "outputs": [],
   "source": []
  },
  {
   "cell_type": "code",
   "execution_count": null,
   "id": "cb99d8dd",
   "metadata": {},
   "outputs": [],
   "source": []
  },
  {
   "cell_type": "code",
   "execution_count": null,
   "id": "ef55ed66",
   "metadata": {},
   "outputs": [],
   "source": []
  },
  {
   "cell_type": "code",
   "execution_count": null,
   "id": "24c6292e",
   "metadata": {},
   "outputs": [],
   "source": [
    "#from fpdf import FPDF\n",
    "#import os\n",
    "# create a instance of fpdf\n",
    "#pdf = FPDF()\n",
    "#pdf.set_auto_page_break(0)\n",
    "\n",
    "#IP_path1 = \"C:/Users/tonum/OneDrive/Desktop/Codes/Images_to_PDF/Image/Jpeg/\" #jpg path\n",
    "#IP_path2 = r\"C:/Users/tonum/OneDrive/Desktop/Codes/Images_to_PDF/Image/png/\" #png path\n",
    "\n",
    "#OP_path = \"C:/Users/tonum/OneDrive/Desktop/Codes/Images_to_PDF/PDF/\"\n",
    "\n",
    "\n",
    "#img_list = [os.path.join(IP_path2, file)\n",
    "#        for file in os.listdir(IP_path2)\n",
    "#        if file.endswith('.png')]\n",
    "    \n",
    "#for img in img_list:\n",
    "#    pdf.add_page()\n",
    "#    pdf.image(img)\n",
    "    \n",
    "#pdf.output(name = 'png_op.pdf')   "
   ]
  },
  {
   "cell_type": "code",
   "execution_count": null,
   "id": "bc6f31bf",
   "metadata": {},
   "outputs": [],
   "source": [
    "#merging all pdfs into a single pdf\n",
    "#pdf_list = [os.path.join(OP_path, file)\n",
    "#        for file in os.listdir(OP_path)\n",
    "#        if file.endswith('.pdf')]\n",
    "\n",
    "#merger = PdfFileMerger()\n",
    "\n",
    "#for pdf in pdf_list:\n",
    "#    merger.append(pdf)\n",
    "\n",
    "#merger.write(OP_path+\"result.pdf\")\n",
    "#merger.close()\n",
    "\n",
    "#deleting extra pdfs\n",
    "#for j in range (len(pdf_list)):\n",
    "#    os.remove(OP_path+str(j)+'.pdf')"
   ]
  }
 ],
 "metadata": {
  "kernelspec": {
   "display_name": "Python 3 (ipykernel)",
   "language": "python",
   "name": "python3"
  },
  "language_info": {
   "codemirror_mode": {
    "name": "ipython",
    "version": 3
   },
   "file_extension": ".py",
   "mimetype": "text/x-python",
   "name": "python",
   "nbconvert_exporter": "python",
   "pygments_lexer": "ipython3",
   "version": "3.9.12"
  }
 },
 "nbformat": 4,
 "nbformat_minor": 5
}
